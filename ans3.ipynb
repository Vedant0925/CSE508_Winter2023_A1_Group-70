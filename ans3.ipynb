{
 "cells": [
  {
   "cell_type": "markdown",
   "metadata": {},
   "source": [
    "### Q.3 (ii) 1."
   ]
  },
  {
   "cell_type": "code",
   "execution_count": null,
   "metadata": {},
   "outputs": [
    {
     "name": "stdout",
     "output_type": "stream",
     "text": [
      "{'experimental': {'total_count': 2, 'docs': {0: [0, 5]}}, 'investigation': {'total_count': 4, 'docs': {0: [1], 7: [58], 8: [10, 160]}}, 'aerodynamics': {'total_count': 1, 'docs': {0: [2]}}, 'wing': {'total_count': 3, 'docs': {0: [3, 7, 22]}}, 'slipstream': {'total_count': 5, 'docs': {0: [4, 9, 18, 26, 51]}}, 'study': {'total_count': 4, 'docs': {0: [6], 1: [10, 43], 7: [11]}}, 'propeller': {'total_count': 1, 'docs': {0: [8]}}, 'made': {'total_count': 5, 'docs': {0: [10, 74], 3: [42], 8: [17, 134]}}, 'order': {'total_count': 1, 'docs': {0: [11]}}, 'determine': {'total_count': 1, 'docs': {0: [12]}}, 'spanwise': {'total_count': 1, 'docs': {0: [13]}}, 'distribution': {'total_count': 2, 'docs': {0: [14], 3: [29]}}, 'lift': {'total_count': 4, 'docs': {0: [15, 48, 59, 63]}}, 'increase': {'total_count': 1, 'docs': {0: [16]}}, 'due': {'total_count': 2, 'docs': {0: [17, 52]}}, 'different': {'total_count': 4, 'docs': {0: [19, 23, 34], 1: [52]}}, 'angles': {'total_count': 1, 'docs': {0: [20]}}, 'attack': {'total_count': 1, 'docs': {0: [21]}}, 'free': {'total_count': 4, 'docs': {0: [24], 1: [61, 72, 104]}}, 'stream': {'total_count': 4, 'docs': {0: [25], 1: [62, 73, 105]}}, 'velocity': {'total_count': 3, 'docs': {0: [27], 3: [28], 6: [110]}}, 'ratios': {'total_count': 1, 'docs': {0: [28]}}, 'results': {'total_count': 5, 'docs': {0: [29], 6: [44], 7: [66], 8: [117, 159]}}, 'intended': {'total_count': 1, 'docs': {0: [30]}}, 'part': {'total_count': 2, 'docs': {0: [31, 47]}}, 'evaluation': {'total_count': 2, 'docs': {0: [32, 71]}}, 'basis': {'total_count': 2, 'docs': {0: [33], 7: [17]}}, 'theoretical': {'total_count': 1, 'docs': {0: [35]}}, 'treatments': {'total_count': 1, 'docs': {0: [36]}}, 'problem': {'total_count': 7, 'docs': {0: [37], 1: [57, 59, 70, 97], 3: [15], 5: [36]}}, 'comparative': {'total_count': 1, 'docs': {0: [38]}}, 'span': {'total_count': 1, 'docs': {0: [39]}}, 'loading': {'total_count': 1, 'docs': {0: [40]}}, 'curves': {'total_count': 1, 'docs': {0: [41]}}, 'together': {'total_count': 1, 'docs': {0: [42]}}, 'supporting': {'total_count': 1, 'docs': {0: [43]}}, 'evidence': {'total_count': 1, 'docs': {0: [44]}}, 'showed': {'total_count': 1, 'docs': {0: [45]}}, 'substantial': {'total_count': 1, 'docs': {0: [46]}}, 'increment': {'total_count': 2, 'docs': {0: [49, 60]}}, 'produced': {'total_count': 1, 'docs': {0: [50]}}, 'boundary': {'total_count': 23, 'docs': {0: [53], 1: [38, 55, 64, 68, 99], 2: [0, 8], 3: [4, 13, 30, 37], 6: [5, 28, 77, 115], 7: [8, 42], 8: [45, 56, 87, 104, 124]}}, 'layer': {'total_count': 25, 'docs': {0: [54], 1: [39, 56, 65, 69, 100], 2: [1, 9], 3: [5, 14, 31, 38], 4: [6], 5: [16], 6: [6, 29, 78, 116], 7: [9, 43], 8: [46, 57, 88, 105, 125]}}, 'control': {'total_count': 1, 'docs': {0: [55]}}, 'effect': {'total_count': 9, 'docs': {0: [56], 3: [44], 6: [0, 22, 98], 7: [1, 12, 20], 8: [78]}}, 'integrated': {'total_count': 1, 'docs': {0: [57]}}, 'remaining': {'total_count': 1, 'docs': {0: [58]}}, 'subtracting': {'total_count': 1, 'docs': {0: [61]}}, 'destalling': {'total_count': 2, 'docs': {0: [62, 72]}}, 'found': {'total_count': 5, 'docs': {0: [64], 7: [16], 8: [31, 44, 165]}}, 'agree': {'total_count': 1, 'docs': {0: [65]}}, 'well': {'total_count': 2, 'docs': {0: [66], 7: [28]}}, 'potential': {'total_count': 1, 'docs': {0: [67]}}, 'flow': {'total_count': 19, 'docs': {0: [68], 1: [2, 14, 34, 46, 88, 114], 2: [4, 14], 3: [9, 19, 40], 5: [4], 6: [49, 92, 104], 8: [77, 127, 168]}}, 'theory': {'total_count': 1, 'docs': {0: [69]}}, 'empirical': {'total_count': 1, 'docs': {0: [70]}}, 'effects': {'total_count': 2, 'docs': {0: [73], 1: [78]}}, 'specific': {'total_count': 1, 'docs': {0: [75]}}, 'configuration': {'total_count': 1, 'docs': {0: [76]}}, 'experiment': {'total_count': 1, 'docs': {0: [77]}}, 'simple': {'total_count': 3, 'docs': {1: [0, 86], 2: [2]}}, 'shear': {'total_count': 6, 'docs': {1: [1, 87], 2: [3], 3: [8, 18], 8: [149]}}, 'past': {'total_count': 5, 'docs': {1: [3, 15, 47, 89], 2: [5]}}, 'flat': {'total_count': 9, 'docs': {1: [4, 48, 90], 2: [6], 3: [16], 7: [60], 8: [6, 15, 63]}}, 'plate': {'total_count': 11, 'docs': {1: [5, 49, 91], 2: [7], 3: [7, 17], 7: [61], 8: [7, 16, 39, 64]}}, 'incompressible': {'total_count': 6, 'docs': {1: [6, 112], 2: [13], 3: [2, 20], 8: [167]}}, 'fluid': {'total_count': 3, 'docs': {1: [7, 92], 3: [21]}}, 'small': {'total_count': 3, 'docs': {1: [8, 93], 4: [12]}}, 'viscosity': {'total_count': 3, 'docs': {1: [9, 94], 6: [112]}}, 'high': {'total_count': 1, 'docs': {1: [11]}}, 'speed': {'total_count': 2, 'docs': {1: [12], 8: [76]}}, 'viscous': {'total_count': 2, 'docs': {1: [13, 45]}}, 'two': {'total_count': 6, 'docs': {1: [16, 110], 3: [10], 7: [2, 21], 8: [79]}}, 'dimensional': {'total_count': 13, 'docs': {1: [17, 111], 3: [11], 4: [1], 5: [1], 6: [3, 24, 52], 7: [3, 5, 22, 77], 8: [80]}}, 'body': {'total_count': 2, 'docs': {1: [18, 29]}}, 'usually': {'total_count': 1, 'docs': {1: [19]}}, 'necessary': {'total_count': 1, 'docs': {1: [20]}}, 'consider': {'total_count': 1, 'docs': {1: [21]}}, 'curved': {'total_count': 1, 'docs': {1: [22]}}, 'shock': {'total_count': 2, 'docs': {1: [23, 36]}}, 'wave': {'total_count': 2, 'docs': {1: [24, 37]}}, 'emitting': {'total_count': 1, 'docs': {1: [25]}}, 'nose': {'total_count': 1, 'docs': {1: [26]}}, 'leading': {'total_count': 3, 'docs': {1: [27], 7: [37], 8: [65]}}, 'edge': {'total_count': 4, 'docs': {1: [28], 6: [114], 7: [38], 8: [66]}}, 'consequently': {'total_count': 1, 'docs': {1: [30]}}, 'exists': {'total_count': 1, 'docs': {1: [31]}}, 'inviscid': {'total_count': 3, 'docs': {1: [32, 60, 71]}}, 'rotational': {'total_count': 2, 'docs': {1: [33, 76]}}, 'region': {'total_count': 1, 'docs': {1: [35]}}, 'situation': {'total_count': 2, 'docs': {1: [40, 50]}}, 'arises': {'total_count': 1, 'docs': {1: [41]}}, 'instance': {'total_count': 1, 'docs': {1: [42]}}, 'hypersonic': {'total_count': 4, 'docs': {1: [44, 67], 8: [19, 126]}}, 'somewhat': {'total_count': 1, 'docs': {1: [51]}}, 'prandtl': {'total_count': 1, 'docs': {1: [53]}}, 'classical': {'total_count': 1, 'docs': {1: [54]}}, 'original': {'total_count': 1, 'docs': {1: [58]}}, 'outside': {'total_count': 1, 'docs': {1: [63]}}, 'irrotational': {'total_count': 1, 'docs': {1: [66]}}, 'must': {'total_count': 1, 'docs': {1: [74]}}, 'considered': {'total_count': 2, 'docs': {1: [75], 3: [22]}}, 'possible': {'total_count': 1, 'docs': {1: [77]}}, 'vorticity': {'total_count': 5, 'docs': {1: [79, 107], 3: [45], 6: [66, 81]}}, 'recently': {'total_count': 1, 'docs': {1: [80]}}, 'discussed': {'total_count': 1, 'docs': {1: [81]}}, 'ferri': {'total_count': 1, 'docs': {1: [82]}}, 'libby': {'total_count': 1, 'docs': {1: [83]}}, 'present': {'total_count': 1, 'docs': {1: [84]}}, 'paper': {'total_count': 1, 'docs': {1: [85]}}, 'investigated': {'total_count': 2, 'docs': {1: [95], 8: [83]}}, 'shown': {'total_count': 1, 'docs': {1: [96]}}, 'treated': {'total_count': 1, 'docs': {1: [98]}}, 'approximation': {'total_count': 1, 'docs': {1: [101]}}, 'novel': {'total_count': 1, 'docs': {1: [102]}}, 'feature': {'total_count': 1, 'docs': {1: [103]}}, 'constant': {'total_count': 2, 'docs': {1: [106], 8: [169]}}, 'discussion': {'total_count': 2, 'docs': {1: [108], 8: [116]}}, 'restricted': {'total_count': 1, 'docs': {1: [109]}}, 'steady': {'total_count': 3, 'docs': {1: [113], 2: [12], 3: [12]}}, 'equations': {'total_count': 2, 'docs': {2: [10], 3: [6]}}, 'presented': {'total_count': 2, 'docs': {2: [11], 4: [17]}}, 'pressure': {'total_count': 1, 'docs': {2: [15]}}, 'gradient': {'total_count': 1, 'docs': {2: [16]}}, 'approximate': {'total_count': 1, 'docs': {3: [0]}}, 'solutions': {'total_count': 6, 'docs': {3: [1, 23], 4: [16], 5: [13, 28, 44]}}, 'laminar': {'total_count': 6, 'docs': {3: [3], 6: [47, 103], 8: [47, 123, 143]}}, 'boundarylayer': {'total_count': 2, 'docs': {3: [24], 8: [42]}}, 'thickness': {'total_count': 3, 'docs': {3: [25], 6: [79], 7: [45]}}, 'skin': {'total_count': 5, 'docs': {3: [26], 8: [2, 12, 131, 162]}}, 'friction': {'total_count': 5, 'docs': {3: [27], 8: [3, 13, 132, 163]}}, 'obtained': {'total_count': 6, 'docs': {3: [32], 5: [39], 7: [51, 70], 8: [106, 150]}}, 'karman': {'total_count': 1, 'docs': {3: [33]}}, 'pohlhausen': {'total_count': 1, 'docs': {3: [34]}}, 'technique': {'total_count': 4, 'docs': {3: [35], 8: [27, 84, 138]}}, 'comparison': {'total_count': 1, 'docs': {3: [36]}}, 'uniform': {'total_count': 2, 'docs': {3: [39], 8: [71]}}, 'also': {'total_count': 1, 'docs': {3: [41]}}, 'show': {'total_count': 1, 'docs': {3: [43]}}, 'one': {'total_count': 5, 'docs': {4: [0, 24], 5: [0, 22], 6: [128]}}, 'transient': {'total_count': 3, 'docs': {4: [2, 18], 5: [2]}}, 'heat': {'total_count': 7, 'docs': {4: [3, 10, 19, 27], 5: [3, 19, 51]}}, 'conduction': {'total_count': 2, 'docs': {4: [4, 20]}}, 'double': {'total_count': 3, 'docs': {4: [5], 5: [15], 6: [56]}}, 'slab': {'total_count': 3, 'docs': {4: [7], 5: [6, 17]}}, 'subjected': {'total_count': 1, 'docs': {4: [8]}}, 'linear': {'total_count': 1, 'docs': {4: [9]}}, 'input': {'total_count': 3, 'docs': {4: [11], 5: [21, 52]}}, 'time': {'total_count': 1, 'docs': {4: [13]}}, 'internal': {'total_count': 1, 'docs': {4: [14]}}, 'analytic': {'total_count': 2, 'docs': {4: [15], 5: [12]}}, 'composite': {'total_count': 1, 'docs': {4: [21]}}, 'slabs': {'total_count': 1, 'docs': {4: [22]}}, 'exposed': {'total_count': 1, 'docs': {4: [23]}}, 'surface': {'total_count': 2, 'docs': {4: [25], 8: [40]}}, 'triangular': {'total_count': 2, 'docs': {4: [26], 5: [18]}}, 'rate': {'total_count': 3, 'docs': {4: [28, 31], 5: [20]}}, 'type': {'total_count': 1, 'docs': {4: [29]}}, 'heating': {'total_count': 2, 'docs': {4: [30, 36]}}, 'may': {'total_count': 2, 'docs': {4: [32], 6: [86]}}, 'occur': {'total_count': 1, 'docs': {4: [33]}}, 'example': {'total_count': 1, 'docs': {4: [34]}}, 'aerodynamic': {'total_count': 1, 'docs': {4: [35]}}, 'multilayer': {'total_count': 1, 'docs': {5: [5]}}, 'recent': {'total_count': 1, 'docs': {5: [7]}}, 'contribution': {'total_count': 1, 'docs': {5: [8]}}, 'forum': {'total_count': 1, 'docs': {5: [9]}}, 'wassermann': {'total_count': 2, 'docs': {5: [10, 46]}}, 'gave': {'total_count': 1, 'docs': {5: [11]}}, 'temperature': {'total_count': 1, 'docs': {5: [14]}}, 'face': {'total_count': 1, 'docs': {5: [23]}}, 'insulated': {'total_count': 3, 'docs': {5: [24], 8: [5, 14]}}, 'thermal': {'total_count': 1, 'docs': {5: [25]}}, 'resistance': {'total_count': 1, 'docs': {5: [26]}}, 'interface': {'total_count': 1, 'docs': {5: [27]}}, 'three': {'total_count': 6, 'docs': {5: [29], 6: [2, 23, 51], 7: [4, 76]}}, 'particular': {'total_count': 1, 'docs': {5: [30]}}, 'cases': {'total_count': 1, 'docs': {5: [31]}}, 'propose': {'total_count': 1, 'docs': {5: [32]}}, 'give': {'total_count': 1, 'docs': {5: [33]}}, 'general': {'total_count': 1, 'docs': {5: [34]}}, 'solution': {'total_count': 1, 'docs': {5: [35]}}, 'indicate': {'total_count': 2, 'docs': {5: [37], 6: [45]}}, 'briefly': {'total_count': 1, 'docs': {5: [38]}}, 'using': {'total_count': 1, 'docs': {5: [40]}}, 'method': {'total_count': 1, 'docs': {5: [41]}}, 'reference': {'total_count': 1, 'docs': {5: [42]}}, 'point': {'total_count': 1, 'docs': {5: [43]}}, 'given': {'total_count': 2, 'docs': {5: [45], 8: [118]}}, 'incomplete': {'total_count': 1, 'docs': {5: [47]}}, 'times': {'total_count': 1, 'docs': {5: [48]}}, 'longer': {'total_count': 1, 'docs': {5: [49]}}, 'duration': {'total_count': 1, 'docs': {5: [50]}}, 'controlled': {'total_count': 1, 'docs': {6: [1]}}, 'roughness': {'total_count': 13, 'docs': {6: [4, 25, 53, 74, 95, 118, 122], 7: [6, 13, 23, 40, 68, 78]}}, 'transition': {'total_count': 14, 'docs': {6: [7, 30, 46, 67, 120], 7: [10, 14, 34, 59], 8: [0, 11, 29, 91, 96]}}, 'supersonic': {'total_count': 2, 'docs': {6: [8, 12]}}, 'speeds': {'total_count': 2, 'docs': {6: [9], 8: [129]}}, 'experiments': {'total_count': 1, 'docs': {6: [10]}}, 'performed': {'total_count': 1, 'docs': {6: [11]}}, 'wind': {'total_count': 2, 'docs': {6: [13], 8: [20]}}, 'tunnel': {'total_count': 3, 'docs': {6: [14], 8: [21, 58]}}, 'jet': {'total_count': 1, 'docs': {6: [15]}}, 'propulsion': {'total_count': 1, 'docs': {6: [16]}}, 'laboratory': {'total_count': 1, 'docs': {6: [17]}}, 'california': {'total_count': 1, 'docs': {6: [18]}}, 'institute': {'total_count': 1, 'docs': {6: [19]}}, 'technology': {'total_count': 1, 'docs': {6: [20]}}, 'investigate': {'total_count': 1, 'docs': {6: [21]}}, 'elements': {'total_count': 6, 'docs': {6: [26, 54, 96], 7: [7, 69, 79]}}, 'spheres': {'total_count': 1, 'docs': {6: [27]}}, 'tained': {'total_count': 1, 'docs': {6: [31]}}, 'local': {'total_count': 2, 'docs': {6: [32], 8: [81]}}, 'mach': {'total_count': 3, 'docs': {6: [33], 8: [8, 23]}}, 'numbers': {'total_count': 7, 'docs': {6: [34], 8: [49, 68, 99, 108, 141, 152]}}, 'varying': {'total_count': 1, 'docs': {6: [35]}}, 'trip': {'total_count': 3, 'docs': {6: [36, 105, 132]}}, 'size': {'total_count': 1, 'docs': {6: [37]}}, 'position': {'total_count': 5, 'docs': {6: [38, 123, 125, 133], 7: [46]}}, 'spacing': {'total_count': 2, 'docs': {6: [39, 94]}}, 'reynolds': {'total_count': 11, 'docs': {6: [40, 106, 126], 7: [32], 8: [48, 67, 98, 107, 140, 151, 173]}}, 'number': {'total_count': 7, 'docs': {6: [41, 107, 127], 7: [33], 8: [9, 24, 174]}}, 'per': {'total_count': 1, 'docs': {6: [42]}}, 'inch': {'total_count': 1, 'docs': {6: [43]}}, 'turbulent': {'total_count': 6, 'docs': {6: [48, 91], 8: [55, 103, 148, 161]}}, 'induced': {'total_count': 1, 'docs': {6: [50]}}, 'begins': {'total_count': 1, 'docs': {6: [55]}}, 'row': {'total_count': 2, 'docs': {6: [57], 7: [75]}}, 'spiral': {'total_count': 2, 'docs': {6: [58, 84]}}, 'vortices': {'total_count': 2, 'docs': {6: [59, 85]}}, 'trailing': {'total_count': 1, 'docs': {6: [60]}}, 'element': {'total_count': 5, 'docs': {6: [61], 7: [24, 41, 47], 8: [137]}}, 'contaminates': {'total_count': 1, 'docs': {6: [62]}}, 'breaks': {'total_count': 1, 'docs': {6: [63]}}, 'surrounding': {'total_count': 1, 'docs': {6: [64]}}, 'field': {'total_count': 2, 'docs': {6: [65, 82]}}, 'appears': {'total_count': 1, 'docs': {6: [68]}}, 'rather': {'total_count': 1, 'docs': {6: [69]}}, 'suddenly': {'total_count': 1, 'docs': {6: [70]}}, 'becoming': {'total_count': 1, 'docs': {6: [71]}}, 'violent': {'total_count': 1, 'docs': {6: [72]}}, 'increasing': {'total_count': 1, 'docs': {6: [73]}}, 'height': {'total_count': 3, 'docs': {6: [75, 119], 7: [39]}}, 'relative': {'total_count': 1, 'docs': {6: [76]}}, 'breakdown': {'total_count': 2, 'docs': {6: [80, 101]}}, 'strength': {'total_count': 1, 'docs': {6: [83]}}, 'still': {'total_count': 1, 'docs': {6: [87]}}, 'persist': {'total_count': 1, 'docs': {6: [88]}}, 'sublayer': {'total_count': 1, 'docs': {6: [89]}}, 'ensuing': {'total_count': 1, 'docs': {6: [90]}}, 'lateral': {'total_count': 1, 'docs': {6: [93]}}, 'little': {'total_count': 1, 'docs': {6: [97]}}, 'upon': {'total_count': 1, 'docs': {6: [99]}}, 'initial': {'total_count': 1, 'docs': {6: [100]}}, 'contamination': {'total_count': 2, 'docs': {6: [102], 8: [53]}}, 'u': {'total_count': 1, 'docs': {6: [108]}}, 'v': {'total_count': 1, 'docs': {6: [109]}}, 'kinematic': {'total_count': 1, 'docs': {6: [111]}}, 'outer': {'total_count': 1, 'docs': {6: [113]}}, 'k': {'total_count': 1, 'docs': {6: [117]}}, 'occurs': {'total_count': 1, 'docs': {6: [121]}}, 'varies': {'total_count': 1, 'docs': {6: [124]}}, 'fourth': {'total_count': 1, 'docs': {6: [129]}}, 'power': {'total_count': 1, 'docs': {6: [130]}}, 'x': {'total_count': 6, 'docs': {6: [131], 8: [51, 69, 110, 154, 175]}}, 'measurements': {'total_count': 4, 'docs': {7: [0], 8: [4, 37, 133]}}, 'dryden': {'total_count': 1, 'docs': {7: [15]}}, 'available': {'total_count': 1, 'docs': {7: [18]}}, 'data': {'total_count': 2, 'docs': {7: [19, 50]}}, 'could': {'total_count': 1, 'docs': {7: [25]}}, 'represented': {'total_count': 1, 'docs': {7: [26]}}, 'reasonably': {'total_count': 1, 'docs': {7: [27]}}, 'terms': {'total_count': 1, 'docs': {7: [29]}}, 'functional': {'total_count': 1, 'docs': {7: [30]}}, 'relation': {'total_count': 1, 'docs': {7: [31]}}, 'based': {'total_count': 1, 'docs': {7: [35]}}, 'distance': {'total_count': 1, 'docs': {7: [36]}}, 'displacement': {'total_count': 1, 'docs': {7: [44]}}, 'suggestion': {'total_count': 1, 'docs': {7: [48]}}, 'additional': {'total_count': 1, 'docs': {7: [49]}}, 'primarily': {'total_count': 1, 'docs': {7: [52]}}, 'extend': {'total_count': 1, 'docs': {7: [53]}}, 'range': {'total_count': 3, 'docs': {7: [54], 8: [139, 145]}}, 'higher': {'total_count': 1, 'docs': {7: [55]}}, 'values': {'total_count': 1, 'docs': {7: [56]}}, 'course': {'total_count': 1, 'docs': {7: [57]}}, 'conducted': {'total_count': 1, 'docs': {7: [62]}}, 'national': {'total_count': 1, 'docs': {7: [63]}}, 'bureau': {'total_count': 1, 'docs': {7: [64]}}, 'standards': {'total_count': 1, 'docs': {7: [65]}}, 'twodimensional': {'total_count': 1, 'docs': {7: [67]}}, 'appeared': {'total_count': 1, 'docs': {7: [71]}}, 'desirable': {'total_count': 1, 'docs': {7: [72]}}, 'see': {'total_count': 1, 'docs': {7: [73]}}, 'whether': {'total_count': 1, 'docs': {7: [74]}}, 'would': {'total_count': 1, 'docs': {7: [80]}}, 'behave': {'total_count': 1, 'docs': {7: [81]}}, 'way': {'total_count': 1, 'docs': {7: [82]}}, 'studies': {'total_count': 1, 'docs': {8: [1]}}, 'galcit': {'total_count': 1, 'docs': {8: [18]}}, 'nominal': {'total_count': 1, 'docs': {8: [22]}}, 'phosphorescent': {'total_count': 1, 'docs': {8: [25]}}, 'lacquer': {'total_count': 1, 'docs': {8: [26]}}, 'used': {'total_count': 2, 'docs': {8: [28, 93]}}, 'detection': {'total_count': 1, 'docs': {8: [30]}}, 'good': {'total_count': 2, 'docs': {8: [32, 156]}}, 'agreement': {'total_count': 2, 'docs': {8: [33, 157]}}, 'total': {'total_count': 1, 'docs': {8: [34]}}, 'head': {'total_count': 1, 'docs': {8: [35]}}, 'rake': {'total_count': 1, 'docs': {8: [36]}}, 'along': {'total_count': 1, 'docs': {8: [38]}}, 'pitot': {'total_count': 1, 'docs': {8: [41]}}, 'surveys': {'total_count': 1, 'docs': {8: [43]}}, 'least': {'total_count': 1, 'docs': {8: [50]}}, 'transverse': {'total_count': 1, 'docs': {8: [52]}}, 'caused': {'total_count': 1, 'docs': {8: [54]}}, 'sidewall': {'total_count': 1, 'docs': {8: [59]}}, 'originated': {'total_count': 1, 'docs': {8: [60]}}, 'far': {'total_count': 1, 'docs': {8: [61]}}, 'downstream': {'total_count': 1, 'docs': {8: [62]}}, 'spread': {'total_count': 1, 'docs': {8: [70]}}, 'angle': {'total_count': 1, 'docs': {8: [72]}}, 'compared': {'total_count': 1, 'docs': {8: [73]}}, 'degree': {'total_count': 1, 'docs': {8: [74]}}, 'low': {'total_count': 2, 'docs': {8: [75, 100]}}, 'disturbances': {'total_count': 1, 'docs': {8: [82]}}, 'air': {'total_count': 3, 'docs': {8: [85, 113, 146]}}, 'injection': {'total_count': 2, 'docs': {8: [86, 147]}}, 'means': {'total_count': 2, 'docs': {8: [89, 135]}}, 'hastening': {'total_count': 1, 'docs': {8: [90]}}, 'extensively': {'total_count': 1, 'docs': {8: [92]}}, 'although': {'total_count': 1, 'docs': {8: [94]}}, 'onset': {'total_count': 1, 'docs': {8: [95]}}, 'occurred': {'total_count': 1, 'docs': {8: [97]}}, 'fully': {'total_count': 1, 'docs': {8: [101]}}, 'developed': {'total_count': 1, 'docs': {8: [102]}}, 'much': {'total_count': 1, 'docs': {8: [109]}}, 'regardless': {'total_count': 1, 'docs': {8: [111]}}, 'amount': {'total_count': 1, 'docs': {8: [112]}}, 'injected': {'total_count': 1, 'docs': {8: [114]}}, 'qualitative': {'total_count': 1, 'docs': {8: [115]}}, 'emphasis': {'total_count': 1, 'docs': {8: [119]}}, 'possibility': {'total_count': 1, 'docs': {8: [120]}}, 'greater': {'total_count': 2, 'docs': {8: [121, 153]}}, 'stability': {'total_count': 1, 'docs': {8: [122]}}, 'lower': {'total_count': 1, 'docs': {8: [128]}}, 'direct': {'total_count': 1, 'docs': {8: [130]}}, 'floating': {'total_count': 1, 'docs': {8: [136]}}, 'verified': {'total_count': 1, 'docs': {8: [142]}}, 'complete': {'total_count': 1, 'docs': {8: [144]}}, 'value': {'total_count': 2, 'docs': {8: [155, 170]}}, 'earlier': {'total_count': 1, 'docs': {8: [158]}}, 'coefficient': {'total_count': 1, 'docs': {8: [164]}}, 'approximately': {'total_count': 1, 'docs': {8: [166]}}, 'r': {'total_count': 1, 'docs': {8: [171]}}, 'effective': {'total_count': 1, 'docs': {8: [172]}}}\n"
     ]
    }
   ],
   "source": [
    "\n",
    "documents=[]\n",
    "index={}\n",
    "\n",
    "\n",
    "### Q.3 (ii) 1.\n",
    "\n",
    "documents=[]\n",
    "index={}\n",
    "\n",
    "\n",
    "for i in range (1,10):\n",
    "    if (i <10):\n",
    "        url2 = \"CSE508_Winter2023_Dataset\\cranfield000\"+str(i)\n",
    "    elif (i<100):\n",
    "        url2= \"CSE508_Winter2023_Dataset\\cranfield00\"+str(i)\n",
    "    elif (i<1000):\n",
    "        url2 = \"CSE508_Winter2023_Dataset\\cranfield0\"+str(i)\n",
    "    elif (i<10000):\n",
    "        url2 = \"CSE508_Winter2023_Dataset\\cranfield\"+str(i)\n",
    "\n",
    "    f = open(url2, \"r\")\n",
    "    text =  f.read()\n",
    "    f.close\n",
    "\n",
    "    tokens = text.split()\n",
    "    documents.append(tokens)\n",
    "\n",
    "\n",
    "# Iterate through each document\n",
    "for docID, doc in enumerate(documents):\n",
    "        for position, word in enumerate(doc):\n",
    "            if word not in index:\n",
    "                index[word] = {\"total_count\": 0, \"docs\": {}}\n",
    "            if docID not in index[word][\"docs\"]:\n",
    "                index[word][\"docs\"][docID] = []\n",
    "            index[word][\"total_count\"] += 1\n",
    "            index[word][\"docs\"][docID].append(position)\n",
    "print(index)\n",
    "\n",
    "\n",
    "\n",
    "\n",
    "\n",
    "\n"
   ]
  },
  {
   "cell_type": "markdown",
   "metadata": {},
   "source": [
    "### Q.3 (ii) 2."
   ]
  },
  {
   "cell_type": "code",
   "execution_count": null,
   "metadata": {},
   "outputs": [
    {
     "name": "stdout",
     "output_type": "stream",
     "text": [
      "\n",
      "The positional Index is saved and loaded for the files\n"
     ]
    }
   ],
   "source": [
    "import pickle\n",
    "\n",
    "\n",
    "\n",
    "with open('PosInd\\inverted_index.pkl', 'wb') as f:\n",
    "    pickle.dump(index, f)\n",
    "\n",
    "# Load the inverted index from the file\n",
    "with open('PosInd\\inverted_index.pkl', 'rb') as f:\n",
    "    loaded_index = pickle.load(f)\n",
    "\n",
    "# Print the loaded index to verify it matches the original index\n",
    "# print(loaded_index)\n",
    "\n",
    "if (loaded_index == index):\n",
    "    print(\"\\nThe positional Index is saved and loaded for the files\")"
   ]
  }
 ],
 "metadata": {
  "kernelspec": {
   "display_name": "Python 3",
   "language": "python",
   "name": "python3"
  },
  "language_info": {
   "name": "python",
   "version": "3.11.2"
  },
  "orig_nbformat": 4,
  "vscode": {
   "interpreter": {
    "hash": "625f42b8136906a2f37e635aee9fcb6da25e7e265992f0950aae327fab6ef526"
   }
  }
 },
 "nbformat": 4,
 "nbformat_minor": 2
}
